{
 "cells": [
  {
   "cell_type": "code",
   "execution_count": 13,
   "metadata": {
    "collapsed": true
   },
   "outputs": [
    {
     "name": "stdout",
     "output_type": "stream",
     "text": [
      "(404, 13)\n",
      "(404,)\n"
     ]
    }
   ],
   "source": [
    "\"\"\"\n",
    "n_estimator一般最大不超过300，除非数据量巨大\n",
    "num_round是xgb本身的带的，是写在params参数之外的\"\"\"\n",
    "import xgboost as xgb\n",
    "from keras.datasets import boston_housing\n",
    "import sklearn\n",
    "\n",
    "(train_x, train_y), (test_x, test_y) = boston_housing.load_data()\n",
    "print(train_x.shape)\n",
    "print(train_y.shape)"
   ]
  },
  {
   "cell_type": "code",
   "execution_count": 25,
   "outputs": [
    {
     "name": "stdout",
     "output_type": "stream",
     "text": [
      "13.350520965428787\n",
      "0.9976707707429318\n",
      "[0.02216232 0.00201101 0.00733447 0.00223212 0.04379056 0.20303956\n",
      " 0.0074023  0.0569986  0.00722806 0.02128241 0.01811873 0.00956893\n",
      " 0.5988309 ]\n"
     ]
    }
   ],
   "source": [
    "model = xgb.XGBRegressor(n_estimators=100, max_depth=6, objective='reg:squarederror')\n",
    "model.fit(train_x, train_y)\n",
    "\n",
    "# 查看均方误差\n",
    "print(sklearn.metrics.mean_squared_error(test_y, model.predict(test_x)))\n",
    "\n",
    "# 默认返回R2系数（相关系数\n",
    "print(model.score(train_x, train_y))\n",
    "\n",
    "# 查看特征重要性\n",
    "print(model.feature_importances_)\n"
   ],
   "metadata": {
    "collapsed": false,
    "pycharm": {
     "name": "#%% 基本的xgboost回归\n"
    }
   }
  },
  {
   "cell_type": "code",
   "execution_count": 22,
   "outputs": [
    {
     "data": {
      "text/plain": "array([ -8.572029  ,  -9.21625396, -12.6113526 , -13.05041845])"
     },
     "execution_count": 22,
     "metadata": {},
     "output_type": "execute_result"
    }
   ],
   "source": [
    "import numpy as np\n",
    "# 进行交叉验证, scoring参数默认模型自身的score，也可以自己给\n",
    "sklearn.model_selection.cross_val_score(xgb.XGBRegressor(n_estimators=100, objective='reg:squarederror'),\n",
    "                                        train_x, train_y,\n",
    "                                        cv=4,\n",
    "                                        scoring='neg_mean_squared_error')\n",
    "\n",
    "\n"
   ],
   "metadata": {
    "collapsed": false,
    "pycharm": {
     "name": "#%%\n"
    }
   }
  },
  {
   "cell_type": "code",
   "execution_count": 26,
   "outputs": [
    {
     "name": "stdout",
     "output_type": "stream",
     "text": [
      "[ 30  98 166 234 303] [[0.99999291 0.99994603 0.99998415 0.999985  ]\n",
      " [0.99989049 0.99990369 0.99997888 0.99981686]\n",
      " [0.99973009 0.99942851 0.99979654 0.99963913]\n",
      " [0.99927994 0.99928533 0.99940519 0.99898574]\n",
      " [0.99898739 0.99883677 0.99873724 0.99902223]] [[0.15080186 0.18814622 0.61536366 0.46169881]\n",
      " [0.79228696 0.77544282 0.70072185 0.68567951]\n",
      " [0.81988025 0.84573453 0.69508928 0.82189764]\n",
      " [0.85909034 0.87728246 0.70786183 0.85182035]\n",
      " [0.84762606 0.91175029 0.82734006 0.86191966]]\n"
     ]
    }
   ],
   "source": [
    "# 绘制学习曲线,该函数仅仅返回数据，真绘图还得自己用matplotlib写\n",
    "cv = sklearn.model_selection.KFold(n_splits=4, shuffle=True, random_state=42)\n",
    "train_size, train_score, test_score = sklearn.model_selection.learning_curve(model, # 这应该给一个没训练的模型\n",
    "                                                                             train_x, train_y,\n",
    "                                                                             shuffle=True,\n",
    "                                                                             cv=cv)\n",
    "print(train_size, train_score, test_score)\n",
    "'学习曲线函数，告诉我们不同大小的训练集是否对模型有不同的帮助，即可以看我们从更多的数据中获益多少'\n",
    "\"\"\"\n",
    "衡量模型的好坏，一般是方差和偏差，bias和variance。而方法就是交叉验证\n",
    "对于某个模型架构，使用交叉验证，看得分的平均值来衡量bias，看得分的方差来衡量模型variance\n",
    "最后再弄一个综合指标来评估，比如：bias^2+variance+epsilon，\n",
    "交叉验证意味着不同的训练和验证数据来衡量，如果variance小，则意味着模型稳定\"\"\"\n",
    "\n"
   ],
   "metadata": {
    "collapsed": false,
    "pycharm": {
     "name": "#%%\n"
    }
   }
  }
 ],
 "metadata": {
  "kernelspec": {
   "display_name": "Python 3",
   "language": "python",
   "name": "python3"
  },
  "language_info": {
   "codemirror_mode": {
    "name": "ipython",
    "version": 2
   },
   "file_extension": ".py",
   "mimetype": "text/x-python",
   "name": "python",
   "nbconvert_exporter": "python",
   "pygments_lexer": "ipython2",
   "version": "2.7.6"
  }
 },
 "nbformat": 4,
 "nbformat_minor": 0
}