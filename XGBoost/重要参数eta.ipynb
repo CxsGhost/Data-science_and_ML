{
 "cells": [
  {
   "cell_type": "code",
   "execution_count": null,
   "metadata": {
    "collapsed": true
   },
   "outputs": [],
   "source": [
    "\"\"\"实际上eta就是学习率，也就是shrinkage，每棵树迭代前都乘上一个比率\n",
    "设置这样的学习率,有助于更好的收敛到最低的损失，但问题在于，这会导致拟合更多的树\n",
    "默认值是0.3，xgb倾向于设置为0.1\n",
    "一般会网格搜索n_estimator和eta\n",
    "不要寄希望于eta能对模型性能有极大的提升，一般不会调节或者调解很小，用来改变运算时间\"\"\"\n",
    "import xgboost as xgb\n",
    "from keras.datasets import boston_housing\n",
    "import sklearn\n",
    "\n",
    "(train_x, train_y), (test_x, test_y) = boston_housing.load_data()\n",
    "print(train_x.shape)\n",
    "print(train_y.shape)\n"
   ]
  }
 ],
 "metadata": {
  "kernelspec": {
   "display_name": "Python 3",
   "language": "python",
   "name": "python3"
  },
  "language_info": {
   "codemirror_mode": {
    "name": "ipython",
    "version": 2
   },
   "file_extension": ".py",
   "mimetype": "text/x-python",
   "name": "python",
   "nbconvert_exporter": "python",
   "pygments_lexer": "ipython2",
   "version": "2.7.6"
  }
 },
 "nbformat": 4,
 "nbformat_minor": 0
}