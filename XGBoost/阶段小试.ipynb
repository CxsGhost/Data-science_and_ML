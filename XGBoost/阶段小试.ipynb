{
 "cells": [
  {
   "cell_type": "code",
   "execution_count": 1,
   "outputs": [
    {
     "name": "stdout",
     "output_type": "stream",
     "text": [
      "(506, 13)\n",
      "(506,)\n"
     ]
    }
   ],
   "source": [
    "import xgboost as xgb\n",
    "from sklearn.datasets import load_boston\n",
    "from sklearn.model_selection import train_test_split\n",
    "\n",
    "train_x, train_y = load_boston(return_X_y=True)\n",
    "print(train_x.shape)\n",
    "print(train_y.shape)\n",
    "\n",
    "train_x, test_x, train_y, test_y = train_test_split(train_x, train_y,\n",
    "                                                    test_size=0.15,\n",
    "                                                    random_state=42)"
   ],
   "metadata": {
    "collapsed": false,
    "pycharm": {
     "name": "#%%\n"
    }
   }
  },
  {
   "cell_type": "code",
   "execution_count": 6,
   "outputs": [
    {
     "name": "stdout",
     "output_type": "stream",
     "text": [
      "0.9294598584754351\n",
      "1.5898077613429018\n"
     ]
    }
   ],
   "source": [
    "Dtrain = xgb.DMatrix(data=train_x, label=train_y)\n",
    "Dtest = xgb.DMatrix(data=test_x)\n",
    "\n",
    "params = {'subsample': 0.8,\n",
    "          'objective':'reg:squarederror',\n",
    "          'silent':False,\n",
    "          'eta':0.2,\n",
    "          'gamma': 1,\n",
    "          'alpha': 0.2,\n",
    "          'lambda': 0.2,\n",
    "          'max_depth': 5}\n",
    "num_round = 50\n",
    "model = xgb.train(params=params,\n",
    "                  dtrain=Dtrain,\n",
    "                  num_boost_round=num_round)\n",
    "pre_y = model.predict(Dtest)\n",
    "\n",
    "from sklearn.metrics import r2_score\n",
    "from sklearn.metrics import mean_absolute_error\n",
    "\n",
    "print(r2_score(test_y, pre_y))\n",
    "print(mean_absolute_error(test_y, pre_y))\n",
    "\n"
   ],
   "metadata": {
    "collapsed": false,
    "pycharm": {
     "name": "#%%\n"
    }
   }
  },
  {
   "cell_type": "code",
   "execution_count": 2,
   "outputs": [],
   "source": [
    "\n"
   ],
   "metadata": {
    "collapsed": false,
    "pycharm": {
     "name": "#%%\n"
    }
   }
  }
 ],
 "metadata": {
  "kernelspec": {
   "display_name": "Python 3",
   "language": "python",
   "name": "python3"
  },
  "language_info": {
   "codemirror_mode": {
    "name": "ipython",
    "version": 2
   },
   "file_extension": ".py",
   "mimetype": "text/x-python",
   "name": "python",
   "nbconvert_exporter": "python",
   "pygments_lexer": "ipython2",
   "version": "2.7.6"
  }
 },
 "nbformat": 4,
 "nbformat_minor": 0
}