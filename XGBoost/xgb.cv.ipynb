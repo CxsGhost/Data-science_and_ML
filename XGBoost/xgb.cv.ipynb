{
 "cells": [
  {
   "cell_type": "code",
   "execution_count": 6,
   "metadata": {
    "collapsed": true
   },
   "outputs": [
    {
     "name": "stdout",
     "output_type": "stream",
     "text": [
      "(506, 13)\n",
      "(506,)\n"
     ]
    }
   ],
   "source": [
    "import xgboost as xgb\n",
    "from sklearn.datasets import load_boston\n",
    "from sklearn.model_selection import train_test_split\n",
    "\n",
    "x, y = load_boston(return_X_y=True)\n",
    "print(x.shape)\n",
    "print(y.shape)\n",
    "\n",
    "train_x, test_x, train_y, test_y = train_test_split(x, y,\n",
    "                                                    test_size=0.15,\n",
    "                                                    random_state=42)"
   ]
  },
  {
   "cell_type": "code",
   "execution_count": 19,
   "outputs": [
    {
     "name": "stdout",
     "output_type": "stream",
     "text": [
      "     train-rmse-mean  train-rmse-std  test-rmse-mean  test-rmse-std\n",
      "0          19.221054        0.135062       19.343336       0.588833\n",
      "1          15.497061        0.107690       15.688567       0.528637\n",
      "2          12.517883        0.087561       12.880251       0.490842\n",
      "3          10.137455        0.069629       10.596303       0.446211\n",
      "4           8.229063        0.054393        8.886687       0.465522\n",
      "..               ...             ...             ...            ...\n",
      "175         1.419799        0.025463        3.745635       0.961326\n",
      "176         1.419799        0.025463        3.745635       0.961326\n",
      "177         1.419799        0.025463        3.745635       0.961326\n",
      "178         1.419799        0.025463        3.745635       0.961326\n",
      "179         1.419799        0.025463        3.745635       0.961326\n",
      "\n",
      "[180 rows x 4 columns]\n"
     ]
    }
   ],
   "source": [
    "\"\"\"\n",
    "常用评估指标\n",
    "rmse：回归后均方误差\n",
    "mae\n",
    "logloss：二分类问题\n",
    "mlogloss：多分裂用，对数损失\n",
    "error：分类用，分类误差等于1-准确率\n",
    "auc:分类指标，auc面积\n",
    "\"\"\"\n",
    "d_x = xgb.DMatrix(data=x, label=y)\n",
    "\n",
    "params = {'subsample': 1,\n",
    "          'objective': 'reg:linear',\n",
    "          'silent': True,\n",
    "          'eta': 0.2,\n",
    "          'alpha': 0.2,\n",
    "          'lambda': 0.2,\n",
    "          'gamma': 20,\n",
    "          'eval_metric': 'rmse',\n",
    "          'max_depth': 5}\n",
    "\n",
    "num_round = 180\n",
    "n_fold = 5\n",
    "cv_result_1 = xgb.cv(params=params,\n",
    "                     dtrain=d_x,\n",
    "                     num_boost_round=num_round,\n",
    "                     nfold=n_fold)\n",
    "\n",
    "# 每一轮过后都会做交叉验证，并且返回一个dataframe\n",
    "print(cv_result_1)\n"
   ],
   "metadata": {
    "collapsed": false,
    "pycharm": {
     "name": "#%%\n"
    }
   }
  },
  {
   "cell_type": "code",
   "execution_count": 28,
   "outputs": [
    {
     "data": {
      "text/plain": "<Figure size 432x288 with 1 Axes>",
      "image/png": "[encoded data removed]"
     },
     "metadata": {
      "needs_background": "light"
     },
     "output_type": "display_data"
    }
   ],
   "source": [
    "%matplotlib inline\n",
    "import matplotlib.pyplot as plt\n",
    "\n",
    "plt.grid()\n",
    "plt.plot(range(1, 181), cv_result_1.iloc[:, 0],\n",
    "         color='red',\n",
    "         marker='>',\n",
    "         linestyle='-',\n",
    "         linewidth=0.5,\n",
    "         markersize=2,\n",
    "         label='train')\n",
    "plt.legend(fontsize='xx-large')\n",
    "plt.show()\n",
    "\n"
   ],
   "metadata": {
    "collapsed": false,
    "pycharm": {
     "name": "#%%\n"
    }
   }
  }
 ],
 "metadata": {
  "kernelspec": {
   "display_name": "Python 3",
   "language": "python",
   "name": "python3"
  },
  "language_info": {
   "codemirror_mode": {
    "name": "ipython",
    "version": 2
   },
   "file_extension": ".py",
   "mimetype": "text/x-python",
   "name": "python",
   "nbconvert_exporter": "python",
   "pygments_lexer": "ipython2",
   "version": "2.7.6"
  }
 },
 "nbformat": 4,
 "nbformat_minor": 0
}