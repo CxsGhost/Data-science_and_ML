{
 "cells": [
  {
   "cell_type": "code",
   "execution_count": 3,
   "metadata": {
    "collapsed": true
   },
   "outputs": [
    {
     "name": "stdout",
     "output_type": "stream",
     "text": [
      "1690204.1989544502\n"
     ]
    }
   ],
   "source": [
    "import pandas as pd\n",
    "import numpy as np\n",
    "\n",
    "class House:\n",
    "    def __init__(self):\n",
    "        self.x1 = None\n",
    "        self.x2 = None\n",
    "        self.h1 = None\n",
    "        self.h2 = None\n",
    "        self.phi = 34 / 360 * 2 * np.pi\n",
    "        self.s1 = None\n",
    "        self.s6 = None\n",
    "        self.s3 = None\n",
    "        self.s4 = None\n",
    "\n",
    "\n",
    "house = House()\n",
    "\n",
    "\n",
    "\n",
    "data = pd.read_excel('weather_data.xls', sheet_name='逐时气象参数',\n",
    "                     index_col=0, header=0)\n",
    "data = data.values\n",
    "\n",
    "north_data = np.sum(data[:, -1])\n",
    "west_data = np.sum(data[:, -2])\n",
    "south_data = np.sum(data[:, -3])\n",
    "east_data = np.sum(data[:, -4])\n",
    "\n",
    "H = data[:, 2]\n",
    "Hd = data[:, 3]\n",
    "Hb = H - Hd\n",
    "hour = data[:, 1]\n",
    "phi = 40.1 / 360 * 2 * np.pi\n",
    "rou = 0.08\n",
    "Isc = 1367\n",
    "f = 1 + 0.034 * np.cos(0.9863 * (hour // 24 + 1 - 5))\n",
    "\n",
    "\n",
    "# 赤纬角\n",
    "def delta(hour_):\n",
    "    d = 23.45 * np.sin((2 * np.pi * (284 + hour_ // 24 + 1)) / 365)\n",
    "    d = d / 360 * 2 * np.pi\n",
    "    return d\n",
    "\n",
    "\n",
    "# 斜面日落时角\n",
    "def ws_wh(delta_, s):\n",
    "    wh_ = np.arccos(-np.tan(phi) * np.tan(delta_))\n",
    "    ws_ = np.arccos(-np.tan(phi - s) * np.tan(delta_))\n",
    "    return np.minimum(wh_, ws_), wh_\n",
    "\n",
    "\n",
    "# 水平辐射强度与斜面辐强度之比\n",
    "def Rb(s, delta_=None, ws_=None, wh_=None):\n",
    "    a = np.cos(phi - s) * np.cos(delta_) * np.sin(ws_) + \\\n",
    "        ws_ * np.sin(phi - s) * np.sin(delta_)\n",
    "    b = np.cos(phi) * np.cos(delta_) * np.sin(wh_) + \\\n",
    "        wh_ * np.sin(phi) * np.sin(delta_)\n",
    "    return a / b\n",
    "\n",
    "\n",
    "delta = delta(hour)\n",
    "\n",
    "\n",
    "# 计算辐射总量\n",
    "def calculate(s):\n",
    "    ws, wh = ws_wh(delta, s)\n",
    "    Rb_ = Rb(s, delta_=delta, ws_=ws, wh_=wh)\n",
    "    Ho = 24 / np.pi * f * Isc * (np.cos(phi) * np.cos(delta) * np.sin(wh) +\n",
    "                                 wh * np.sin(phi) * np.sin(delta))\n",
    "    Hbt = Hb * Rb_\n",
    "    Hdt = Hd * (Hb / Ho * Rb_ + 0.5 * (1 - Hb / Ho) * (1 + np.cos(s)))\n",
    "    Hrt = 0.5 * rou * H * (1 - np.cos(s))\n",
    "    Ht = Hbt + Hdt + Hrt\n",
    "    return Ht\n",
    "\n",
    "cant_data = np.sum(calculate(house.phi))"
   ]
  },
  {
   "cell_type": "code",
   "execution_count": 1,
   "outputs": [
    {
     "ename": "NameError",
     "evalue": "name 'np' is not defined",
     "output_type": "error",
     "traceback": [
      "\u001B[1;31m---------------------------------------------------------------------------\u001B[0m",
      "\u001B[1;31mNameError\u001B[0m                                 Traceback (most recent call last)",
      "\u001B[1;32m<ipython-input-1-4c058ebadc41>\u001B[0m in \u001B[0;36m<module>\u001B[1;34m\u001B[0m\n\u001B[1;32m----> 1\u001B[1;33m \u001B[0mp\u001B[0m \u001B[1;33m=\u001B[0m \u001B[1;36m34\u001B[0m \u001B[1;33m/\u001B[0m \u001B[1;36m360\u001B[0m \u001B[1;33m*\u001B[0m \u001B[1;36m2\u001B[0m \u001B[1;33m*\u001B[0m \u001B[0mnp\u001B[0m\u001B[1;33m.\u001B[0m\u001B[0mpi\u001B[0m\u001B[1;33m\u001B[0m\u001B[1;33m\u001B[0m\u001B[0m\n\u001B[0m\u001B[0;32m      2\u001B[0m \u001B[1;32mdef\u001B[0m \u001B[0msearch\u001B[0m\u001B[1;33m(\u001B[0m\u001B[0mx1\u001B[0m\u001B[1;33m,\u001B[0m \u001B[0mx2\u001B[0m\u001B[1;33m,\u001B[0m \u001B[0mh1\u001B[0m\u001B[1;33m,\u001B[0m \u001B[0mh2\u001B[0m\u001B[1;33m,\u001B[0m \u001B[0mc1\u001B[0m\u001B[1;33m,\u001B[0m \u001B[0mc3\u001B[0m\u001B[1;33m,\u001B[0m \u001B[0mc4\u001B[0m\u001B[1;33m,\u001B[0m \u001B[0mc6\u001B[0m\u001B[1;33m)\u001B[0m\u001B[1;33m:\u001B[0m\u001B[1;33m\u001B[0m\u001B[1;33m\u001B[0m\u001B[0m\n\u001B[0;32m      3\u001B[0m     \u001B[0ms1\u001B[0m \u001B[1;33m=\u001B[0m \u001B[0mx1\u001B[0m \u001B[1;33m*\u001B[0m \u001B[0mh1\u001B[0m\u001B[1;33m\u001B[0m\u001B[1;33m\u001B[0m\u001B[0m\n\u001B[0;32m      4\u001B[0m     \u001B[0ms2\u001B[0m \u001B[1;33m=\u001B[0m \u001B[0mx2\u001B[0m \u001B[1;33m*\u001B[0m \u001B[0mh2\u001B[0m\u001B[1;33m\u001B[0m\u001B[1;33m\u001B[0m\u001B[0m\n\u001B[0;32m      5\u001B[0m     \u001B[0ms3\u001B[0m \u001B[1;33m=\u001B[0m \u001B[0mx1\u001B[0m \u001B[1;33m*\u001B[0m \u001B[0mh2\u001B[0m\u001B[1;33m\u001B[0m\u001B[1;33m\u001B[0m\u001B[0m\n",
      "\u001B[1;31mNameError\u001B[0m: name 'np' is not defined"
     ]
    }
   ],
   "source": [
    "p = 34 / 360 * 2 * np.pi\n",
    "def search(x1, x2, h1, h2, c1, c3, c4, c6):\n",
    "    s1 = x1 * h1\n",
    "    s2 = x2 * h2\n",
    "    s3 = x1 * h2\n",
    "    s4 = 0.5 * (h1 + h2) * x2\n",
    "    s5 = (h2 - h1) * x1 / np.sin(phi)\n",
    "    s6 = 0.5 * (h1 + h2) * x2\n",
    "    b = (c1 + c6 + c3 + c4) / s2\n",
    "    b1 = c1 / s1\n",
    "    b3 = c3 / s3\n",
    "    b4 = c4 / s4\n",
    "    b6 = c6 / s6\n",
    "    if s2 + s3 + s4 <= 74 and b >= 0.2 and \\\n",
    "        b1 <= 0.5 and b3 <= 0.3 and b4 <= 0.35 and b6 <= 0.35:\n",
    "        h_all = s1 * south_data + s3 * north_data + \\\n",
    "                s4 * east_data + s6 * west_data + s5 * cant_data\n",
    "        return h_all\n",
    "    else:\n",
    "        return 0\n",
    "\n",
    "cs = []\n",
    "h = []\n",
    "number = 1\n",
    "for x1 in np.arange(3, 15.1, 3):\n",
    "    for x2 in np.arange(3, 15.1, 3):\n",
    "        for h1 in np.arange(2.8, 5.5, 0.4):\n",
    "            for h2 in np.arange(2.8, 5.5, 0.4):\n",
    "                for c1 in np.arange(1, 40.5, 5):\n",
    "                    for c3 in np.arange(1, 28.35, 5):\n",
    "                        for c4 in np.arange(1, 28.35, 5):\n",
    "                            for c6 in np.arange(1, 28.35, 5):\n",
    "                                result = search(x1, x2, h1, h2, c1, c3, c4, c6)\n",
    "                                if result:\n",
    "                                    cs.append([x1, x2, h1, h2, c1, c3, c4, c6])\n",
    "                                    h.append(result)\n",
    "cs = cs[np.argmax(h)]\n",
    "house.x1 = cs[0]\n",
    "house.x2 = cs[1]\n",
    "house.h1 = cs[2]\n",
    "house.h2 = cs[3]\n",
    "house.s1 = cs[4]\n",
    "house.s3 = cs[5]\n",
    "house.s4 = cs[6]\n",
    "house.s6 = cs[7]\n",
    "print('最优房屋规格参数为：')\n",
    "for i in cs:\n",
    "    print(i)\n"
   ],
   "metadata": {
    "collapsed": false,
    "pycharm": {
     "name": "#%%\n"
    }
   }
  },
  {
   "cell_type": "code",
   "execution_count": 3,
   "outputs": [
    {
     "ename": "NameError",
     "evalue": "name 'np' is not defined",
     "output_type": "error",
     "traceback": [
      "\u001B[1;31m---------------------------------------------------------------------------\u001B[0m",
      "\u001B[1;31mNameError\u001B[0m                                 Traceback (most recent call last)",
      "\u001B[1;32m<ipython-input-3-acd4f48914b0>\u001B[0m in \u001B[0;36m<module>\u001B[1;34m\u001B[0m\n\u001B[1;32m----> 1\u001B[1;33m \u001B[0mprint\u001B[0m\u001B[1;33m(\u001B[0m\u001B[1;36m3\u001B[0m \u001B[1;33m/\u001B[0m \u001B[0mnp\u001B[0m\u001B[1;33m.\u001B[0m\u001B[0mcos\u001B[0m\u001B[1;33m(\u001B[0m\u001B[0mhouse\u001B[0m\u001B[1;33m.\u001B[0m\u001B[0mphi\u001B[0m\u001B[1;33m)\u001B[0m\u001B[1;33m)\u001B[0m\u001B[1;33m\u001B[0m\u001B[1;33m\u001B[0m\u001B[0m\n\u001B[0m\u001B[0;32m      2\u001B[0m \u001B[1;33m\u001B[0m\u001B[0m\n\u001B[0;32m      3\u001B[0m \u001B[1;33m\u001B[0m\u001B[0m\n",
      "\u001B[1;31mNameError\u001B[0m: name 'np' is not defined"
     ]
    }
   ],
   "source": [
    "print(3 / np.cos(34 / 360 * 2 * np.pi))\n",
    "\n"
   ],
   "metadata": {
    "collapsed": false,
    "pycharm": {
     "name": "#%%\n"
    }
   }
  }
 ],
 "metadata": {
  "kernelspec": {
   "display_name": "Python 3",
   "language": "python",
   "name": "python3"
  },
  "language_info": {
   "codemirror_mode": {
    "name": "ipython",
    "version": 2
   },
   "file_extension": ".py",
   "mimetype": "text/x-python",
   "name": "python",
   "nbconvert_exporter": "python",
   "pygments_lexer": "ipython2",
   "version": "2.7.6"
  }
 },
 "nbformat": 4,
 "nbformat_minor": 0
}