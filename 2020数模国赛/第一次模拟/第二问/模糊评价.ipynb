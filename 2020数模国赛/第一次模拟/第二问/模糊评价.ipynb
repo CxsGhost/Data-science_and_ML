{
 "cells": [
  {
   "cell_type": "code",
   "execution_count": 1,
   "metadata": {
    "collapsed": true
   },
   "outputs": [],
   "source": [
    "import numpy as np"
   ]
  },
  {
   "cell_type": "code",
   "execution_count": 2,
   "outputs": [],
   "source": [
    "A1 = np.array([0.16, 0.11, 0.46, 0.05, 0.10, 0.10, 0.20])\n",
    "A2 = np.array([0.24, 0.19, 0.42, 0.12, 0.03])\n",
    "A3 = np.array([0.21, 0.16, 0.05, 0.58])\n",
    "V = {0: '非常差', 1: '差', 2: '一般', 3:'好', 4: '非常好'}\n",
    "\n",
    "A = np.array([0.2, 0.6, 0.4])\n",
    "a1_score = [0.1 for i in range(len(A1))]\n",
    "a2_score = [0.1 for j in range(len(A2))]\n",
    "a3_score = [0.1 for k in range(len(A3))]"
   ],
   "metadata": {
    "collapsed": false,
    "pycharm": {
     "name": "#%%\n"
    }
   }
  },
  {
   "cell_type": "code",
   "execution_count": 3,
   "outputs": [],
   "source": [
    "def v1(x):\n",
    "    if x <= 1:\n",
    "        return 1\n",
    "    elif x >= 2:\n",
    "        return 0\n",
    "    else:\n",
    "        return (2 - x) / ( 2 - 1)\n",
    "\n",
    "def v2(x):\n",
    "    if x <= 1:\n",
    "        return 0\n",
    "    elif 1 < x <= 2:\n",
    "        return (x - 1) / (2 - 1)\n",
    "    elif 2 < x < 3:\n",
    "        return (3 - x) / (3 - 2)\n",
    "    else:\n",
    "        return 0\n",
    "\n",
    "def v3(x):\n",
    "    if x <= 2:\n",
    "        return 0\n",
    "    elif 2 < x <= 3:\n",
    "        return (x - 2) / (3 - 2)\n",
    "    elif 3 < x < 4:\n",
    "        return (4 - x) / (4 - 3)\n",
    "    else:\n",
    "        return 0\n",
    "\n",
    "def v4(x):\n",
    "    if x <= 3:\n",
    "        return 0\n",
    "    elif 3 < x <= 4:\n",
    "        return (x - 3) / (4 - 3)\n",
    "    elif 4 < x < 5:\n",
    "        return (5 - x) / (5 - 4)\n",
    "    else:\n",
    "        return 0\n",
    "\n",
    "def v5(x):\n",
    "    if x <= 4:\n",
    "        return 0\n",
    "    elif 4 < x < 5:\n",
    "        return (x - 5) / (5 - 4)\n",
    "    else:\n",
    "        return 1"
   ],
   "metadata": {
    "collapsed": false,
    "pycharm": {
     "name": "#%%\n"
    }
   }
  },
  {
   "cell_type": "code",
   "execution_count": 6,
   "outputs": [
    {
     "ename": "NameError",
     "evalue": "name 'a1_score' is not defined",
     "output_type": "error",
     "traceback": [
      "\u001B[1;31m---------------------------------------------------------------------------\u001B[0m",
      "\u001B[1;31mNameError\u001B[0m                                 Traceback (most recent call last)",
      "\u001B[1;32m<ipython-input-6-c883f7f7773f>\u001B[0m in \u001B[0;36m<module>\u001B[1;34m\u001B[0m\n\u001B[1;32m----> 1\u001B[1;33m R1 = np.array([list(map(v1, a1_score)),\n\u001B[0m\u001B[0;32m      2\u001B[0m                \u001B[0mlist\u001B[0m\u001B[1;33m(\u001B[0m\u001B[0mmap\u001B[0m\u001B[1;33m(\u001B[0m\u001B[0mv2\u001B[0m\u001B[1;33m,\u001B[0m \u001B[0ma1_score\u001B[0m\u001B[1;33m)\u001B[0m\u001B[1;33m)\u001B[0m\u001B[1;33m,\u001B[0m\u001B[1;33m\u001B[0m\u001B[1;33m\u001B[0m\u001B[0m\n\u001B[0;32m      3\u001B[0m                \u001B[0mlist\u001B[0m\u001B[1;33m(\u001B[0m\u001B[0mmap\u001B[0m\u001B[1;33m(\u001B[0m\u001B[0mv3\u001B[0m\u001B[1;33m,\u001B[0m \u001B[0ma1_score\u001B[0m\u001B[1;33m)\u001B[0m\u001B[1;33m)\u001B[0m\u001B[1;33m,\u001B[0m\u001B[1;33m\u001B[0m\u001B[1;33m\u001B[0m\u001B[0m\n\u001B[0;32m      4\u001B[0m                \u001B[0mlist\u001B[0m\u001B[1;33m(\u001B[0m\u001B[0mmap\u001B[0m\u001B[1;33m(\u001B[0m\u001B[0mv4\u001B[0m\u001B[1;33m,\u001B[0m \u001B[0ma1_score\u001B[0m\u001B[1;33m)\u001B[0m\u001B[1;33m)\u001B[0m\u001B[1;33m,\u001B[0m\u001B[1;33m\u001B[0m\u001B[1;33m\u001B[0m\u001B[0m\n\u001B[0;32m      5\u001B[0m                list(map(v5, a1_score))])\n",
      "\u001B[1;31mNameError\u001B[0m: name 'a1_score' is not defined"
     ]
    }
   ],
   "source": [
    "R1 = np.array([list(map(v1, a1_score)),\n",
    "               list(map(v2, a1_score)),\n",
    "               list(map(v3, a1_score)),\n",
    "               list(map(v4, a1_score)),\n",
    "               list(map(v5, a1_score))])\n",
    "R1 = np.transpose(R1, axes=(1, 0))\n",
    "R2 = np.array([list(map(v1, a2_score)),\n",
    "               list(map(v2, a2_score)),\n",
    "               list(map(v3, a2_score)),\n",
    "               list(map(v4, a2_score)),\n",
    "               list(map(v5, a2_score))])\n",
    "R2 = np.transpose(R2, axes=(1, 0))\n",
    "R3 = np.array([list(map(v1, a3_score)),\n",
    "               list(map(v2, a3_score)),\n",
    "               list(map(v3, a3_score)),\n",
    "               list(map(v4, a3_score)),\n",
    "               list(map(v5, a3_score))])\n",
    "R3 = np.transpose(R3, axes=(1, 0))"
   ],
   "metadata": {
    "collapsed": false,
    "pycharm": {
     "name": "#%%\n"
    }
   }
  },
  {
   "cell_type": "code",
   "execution_count": 7,
   "outputs": [
    {
     "ename": "NameError",
     "evalue": "name 'R2' is not defined",
     "output_type": "error",
     "traceback": [
      "\u001B[1;31m---------------------------------------------------------------------------\u001B[0m",
      "\u001B[1;31mNameError\u001B[0m                                 Traceback (most recent call last)",
      "\u001B[1;32m<ipython-input-7-6562ee3345d2>\u001B[0m in \u001B[0;36m<module>\u001B[1;34m\u001B[0m\n\u001B[0;32m      1\u001B[0m \u001B[0mB1\u001B[0m \u001B[1;33m=\u001B[0m \u001B[0mnp\u001B[0m\u001B[1;33m.\u001B[0m\u001B[0mdot\u001B[0m\u001B[1;33m(\u001B[0m\u001B[0mA1\u001B[0m\u001B[1;33m,\u001B[0m \u001B[0mR1\u001B[0m\u001B[1;33m)\u001B[0m\u001B[1;33m\u001B[0m\u001B[1;33m\u001B[0m\u001B[0m\n\u001B[1;32m----> 2\u001B[1;33m \u001B[0mB2\u001B[0m \u001B[1;33m=\u001B[0m \u001B[0mnp\u001B[0m\u001B[1;33m.\u001B[0m\u001B[0mdot\u001B[0m\u001B[1;33m(\u001B[0m\u001B[0mA2\u001B[0m\u001B[1;33m,\u001B[0m \u001B[0mR2\u001B[0m\u001B[1;33m)\u001B[0m\u001B[1;33m\u001B[0m\u001B[1;33m\u001B[0m\u001B[0m\n\u001B[0m\u001B[0;32m      3\u001B[0m \u001B[0mB3\u001B[0m \u001B[1;33m=\u001B[0m \u001B[0mnp\u001B[0m\u001B[1;33m.\u001B[0m\u001B[0mdot\u001B[0m\u001B[1;33m(\u001B[0m\u001B[0mA3\u001B[0m\u001B[1;33m,\u001B[0m \u001B[0mR3\u001B[0m\u001B[1;33m)\u001B[0m\u001B[1;33m\u001B[0m\u001B[1;33m\u001B[0m\u001B[0m\n\u001B[0;32m      4\u001B[0m \u001B[1;33m\u001B[0m\u001B[0m\n\u001B[0;32m      5\u001B[0m \u001B[0mR\u001B[0m \u001B[1;33m=\u001B[0m \u001B[0mnp\u001B[0m\u001B[1;33m.\u001B[0m\u001B[0marray\u001B[0m\u001B[1;33m(\u001B[0m\u001B[1;33m[\u001B[0m\u001B[0mB1\u001B[0m\u001B[1;33m,\u001B[0m \u001B[0mB2\u001B[0m\u001B[1;33m,\u001B[0m \u001B[0mB3\u001B[0m\u001B[1;33m]\u001B[0m\u001B[1;33m)\u001B[0m\u001B[1;33m\u001B[0m\u001B[1;33m\u001B[0m\u001B[0m\n",
      "\u001B[1;31mNameError\u001B[0m: name 'R2' is not defined"
     ]
    }
   ],
   "source": [
    "B1 = np.dot(A1, R1)\n",
    "B2 = np.dot(A2, R2)\n",
    "B3 = np.dot(A3, R3)\n",
    "\n",
    "R = np.array([B1, B2, B3])\n",
    "B = np.dot(A, R)\n",
    "result = V[np.argmax(B)]"
   ],
   "metadata": {
    "collapsed": false,
    "pycharm": {
     "name": "#%%\n"
    }
   }
  },
  {
   "cell_type": "code",
   "execution_count": null,
   "outputs": [],
   "source": [
    "\n"
   ],
   "metadata": {
    "collapsed": false,
    "pycharm": {
     "name": "#%%\n"
    }
   }
  }
 ],
 "metadata": {
  "kernelspec": {
   "display_name": "Python 3",
   "language": "python",
   "name": "python3"
  },
  "language_info": {
   "codemirror_mode": {
    "name": "ipython",
    "version": 2
   },
   "file_extension": ".py",
   "mimetype": "text/x-python",
   "name": "python",
   "nbconvert_exporter": "python",
   "pygments_lexer": "ipython2",
   "version": "2.7.6"
  }
 },
 "nbformat": 4,
 "nbformat_minor": 0
}